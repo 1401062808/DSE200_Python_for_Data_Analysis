{
 "cells": [
  {
   "cell_type": "markdown",
   "metadata": {},
   "source": [
    "### Excercises"
   ]
  },
  {
   "cell_type": "code",
   "execution_count": 2,
   "metadata": {
    "collapsed": false
   },
   "outputs": [
    {
     "name": "stdout",
     "output_type": "stream",
     "text": [
      "average: 237.538333333\n"
     ]
    }
   ],
   "source": [
    "import numpy as np\n",
    "# (1) Compute the average of a list of numbers. \n",
    "L=[23,32,121,22,1222.23,5]\n",
    "print 'average:', np.sum(L)/len(L)"
   ]
  },
  {
   "cell_type": "code",
   "execution_count": null,
   "metadata": {
    "collapsed": false
   },
   "outputs": [],
   "source": [
    "# (2) Compute the number of times each word occurs in the following text.\n",
    "# Transform all words to lower case. Output a list of\n",
    "#  word,count pairs, one pair per line sorted from highest to lowest count."
   ]
  },
  {
   "cell_type": "code",
   "execution_count": 13,
   "metadata": {
    "collapsed": false
   },
   "outputs": [
    {
     "name": "stdout",
     "output_type": "stream",
     "text": [
      "[(20, 'to'), (19, 'the'), (16, 'of'), (13, 'and'), (7, 'their'), (7, 'that'), (7, 'are'), (6, 'these'), (6, 'them'), (5, 'which'), (5, 'is'), (5, 'a'), (4, 'such'), (4, 'it'), (4, 'government'), (3, 'they'), (3, 'right'), (3, 'powers'), (3, 'be'), (3, 'among'), (3, 'all'), (2, 'with'), (2, 'usurpations'), (2, 'should'), (2, 'rights'), (2, 'object'), (2, 'new'), (2, 'men'), (2, 'mankind'), (2, 'long'), (2, 'its'), (2, 'in'), (2, 'history'), (2, 'governments'), (2, 'form'), (2, 'for'), (2, 'equal'), (2, 'causes'), (2, 'by'), (2, 'alter'), (2, 'absolute'), (1, 'world'), (1, 'will'), (1, 'while'), (1, 'whenever'), (1, 'when'), (1, 'we'), (1, 'under'), (1, 'unalienable'), (1, 'tyranny'), (1, 'truths'), (1, 'transient'), (1, 'train'), (1, 'throw'), (1, 'this'), (1, 'themselves'), (1, 'than'), (1, 'systems'), (1, 'sufferance'), (1, 'sufferable'), (1, 'suffer'), (1, 'submitted'), (1, 'station'), (1, 'states'), (1, 'shewn'), (1, 'shall'), (1, 'separation'), (1, 'separate'), (1, 'selfevident'), (1, 'seem'), (1, 'securitysuch'), (1, 'secure'), (1, 'same'), (1, 'safety'), (1, 'respect'), (1, 'requires'), (1, 'repeated'), (1, 'reduce'), (1, 'pursuit'), (1, 'pursuing'), (1, 'prudence'), (1, 'provide'), (1, 'prove'), (1, 'principles'), (1, 'present'), (1, 'people'), (1, 'patient'), (1, 'over'), (1, 'organizing'), (1, 'or'), (1, 'opinions'), (1, 'on'), (1, 'off'), (1, 'now'), (1, 'not'), (1, 'necessity'), (1, 'natures'), (1, 'nature'), (1, 'most'), (1, 'more'), (1, 'likely'), (1, 'light'), (1, 'life'), (1, 'liberty'), (1, 'let'), (1, 'laying'), (1, 'laws'), (1, 'king'), (1, 'just'), (1, 'invariably'), (1, 'instituted'), (1, 'institute'), (1, 'injuries'), (1, 'indeed'), (1, 'impel'), (1, 'hold'), (1, 'having'), (1, 'have'), (1, 'hath'), (1, 'has'), (1, 'happinessthat'), (1, 'happiness'), (1, 'guards'), (1, 'great'), (1, 'governed'), (1, 'god'), (1, 'future'), (1, 'from'), (1, 'foundation'), (1, 'forms'), (1, 'former'), (1, 'facts'), (1, 'experience'), (1, 'evinces'), (1, 'evils'), (1, 'establishment'), (1, 'established'), (1, 'entitle'), (1, 'ends'), (1, 'endowed'), (1, 'effect'), (1, 'earth'), (1, 'duty'), (1, 'disposed'), (1, 'direct'), (1, 'dictate'), (1, 'destructive'), (1, 'despotism'), (1, 'design'), (1, 'deriving'), (1, 'declare'), (1, 'decent'), (1, 'creator'), (1, 'created'), (1, 'constrains'), (1, 'consent'), (1, 'connected'), (1, 'colonies'), (1, 'changed'), (1, 'certain'), (1, 'candid'), (1, 'but'), (1, 'britain'), (1, 'been'), (1, 'becomes'), (1, 'bands'), (1, 'assume'), (1, 'as'), (1, 'any'), (1, 'another'), (1, 'an'), (1, 'accustomed'), (1, 'accordingly'), (1, 'abuses'), (1, 'abolishing'), (1, 'abolish')]\n"
     ]
    }
   ],
   "source": [
    "Text=\"\"\"\n",
    "bands which have connected them with another, and to assume among the\n",
    "powers of the earth, the separate and equal station to which the Laws\n",
    "of Nature and of Nature's God entitle them, a decent respect to the\n",
    "opinions of mankind requires that they should declare the causes which\n",
    "impel them to the separation.  We hold these truths to be\n",
    "self-evident, that all men are created equal, that they are endowed by\n",
    "their Creator with certain unalienable Rights, that among these are\n",
    "Life, Liberty and the pursuit of Happiness.--That to secure these\n",
    "rights, Governments are instituted among Men, deriving their just\n",
    "powers from the consent of the governed, --That whenever any Form of\n",
    "Government becomes destructive of these ends, it is the Right of the\n",
    "People to alter or to abolish it, and to institute new Government,\n",
    "laying its foundation on such principles and organizing its powers in\n",
    "such form, as to them shall seem most likely to effect their Safety\n",
    "and Happiness. Prudence, indeed, will dictate that Governments long\n",
    "established should not be changed for light and transient causes; and\n",
    "accordingly all experience hath shewn, that mankind are more disposed\n",
    "to suffer, while evils are sufferable, than to right themselves by\n",
    "abolishing the forms to which they are accustomed. But when a long\n",
    "train of abuses and usurpations, pursuing invariably the same Object\n",
    "evinces a design to reduce them under absolute Despotism, it is their\n",
    "right, it is their duty, to throw off such Government, and to provide\n",
    "new Guards for their future security.--Such has been the patient\n",
    "sufferance of these Colonies; and such is now the necessity which\n",
    "constrains them to alter their former Systems of Government. The\n",
    "history of the present King of Great Britain is a history of repeated\n",
    "injuries and usurpations, all having in direct object the\n",
    "establishment of an absolute Tyranny over these States. To prove this,\n",
    "let Facts be submitted to a candid world.\n",
    "\"\"\"\n",
    "\n",
    "import re\n",
    "# First, we replace the punctuations marks and lower()\n",
    "Text = re.sub('[-.;,\\']', '',Text).lower()\n",
    "Text_list = Text.split() # making each word into list\n",
    "d = {};\n",
    "\n",
    "# counting number of times word comes up in list of words (in dictioary)\n",
    "for item in Text_list: \n",
    "    d[item] = d.get(item, 0) + 1\n",
    "\n",
    "# this next bit of code reverses the key and values so they can be sorted\n",
    "# using tuples\n",
    "word_freq = []\n",
    "for key, value in d.items():\n",
    "    word_freq.append((value, key))\n",
    "word_freq.sort(reverse=True)\n",
    "print word_freq"
   ]
  },
  {
   "cell_type": "code",
   "execution_count": 18,
   "metadata": {
    "collapsed": false
   },
   "outputs": [
    {
     "name": "stdout",
     "output_type": "stream",
     "text": [
      "[(4, ('of', 'the')), (3, ('it', 'is')), (3, ('and', 'to')), (2, ('to', 'which')), (2, ('to', 'the')), (2, ('to', 'alter')), (2, ('they', 'are')), (2, ('them', 'to')), (2, ('that', 'they')), (2, ('of', 'these')), (2, ('of', 'government')), (2, ('is', 'their')), (2, ('history', 'of')), (2, ('and', 'usurpations')), (1, ('with', 'certain')), (1, ('with', 'another')), (1, ('will', 'dictate')), (1, ('while', 'evils')), (1, ('which', 'they')), (1, ('which', 'the')), (1, ('which', 'impel')), (1, ('which', 'have')), (1, ('which', 'constrains')), (1, ('whenever', 'any')), (1, ('when', 'a')), (1, ('we', 'hold')), (1, ('usurpations', 'pursuing')), (1, ('usurpations', 'all')), (1, ('under', 'absolute')), (1, ('unalienable', 'rights')), (1, ('tyranny', 'over')), (1, ('truths', 'to')), (1, ('transient', 'causes')), (1, ('train', 'of')), (1, ('to', 'throw')), (1, ('to', 'them')), (1, ('to', 'suffer')), (1, ('to', 'secure')), (1, ('to', 'right')), (1, ('to', 'reduce')), (1, ('to', 'provide')), (1, ('to', 'prove')), (1, ('to', 'institute')), (1, ('to', 'effect')), (1, ('to', 'be')), (1, ('to', 'assume')), (1, ('to', 'abolish')), (1, ('to', 'a')), (1, ('throw', 'off')), (1, ('this', 'let')), (1, ('they', 'should')), (1, ('these', 'truths')), (1, ('these', 'states')), (1, ('these', 'rights')), (1, ('these', 'ends')), (1, ('these', 'colonies')), (1, ('these', 'are')), (1, ('themselves', 'by')), (1, ('them', 'with')), (1, ('them', 'under')), (1, ('them', 'shall')), (1, ('them', 'a')), (1, ('their', 'safety')), (1, ('their', 'right')), (1, ('their', 'just')), (1, ('their', 'future')), (1, ('their', 'former')), (1, ('their', 'duty')), (1, ('their', 'creator')), (1, ('the', 'separation')), (1, ('the', 'separate')), (1, ('the', 'same')), (1, ('the', 'right')), (1, ('the', 'pursuit')), (1, ('the', 'present')), (1, ('the', 'powers')), (1, ('the', 'people')), (1, ('the', 'patient')), (1, ('the', 'opinions')), (1, ('the', 'necessity')), (1, ('the', 'laws')), (1, ('the', 'history')), (1, ('the', 'governed')), (1, ('the', 'forms')), (1, ('the', 'establishment')), (1, ('the', 'earth')), (1, ('the', 'consent')), (1, ('the', 'causes')), (1, ('that', 'whenever')), (1, ('that', 'mankind')), (1, ('that', 'governments')), (1, ('that', 'among')), (1, ('that', 'all')), (1, ('than', 'to')), (1, ('systems', 'of')), (1, ('sufferance', 'of')), (1, ('sufferable', 'than')), (1, ('suffer', 'while')), (1, ('such', 'principles')), (1, ('such', 'is')), (1, ('such', 'government')), (1, ('such', 'form')), (1, ('submitted', 'to')), (1, ('station', 'to')), (1, ('states', 'to')), (1, ('should', 'not')), (1, ('should', 'declare')), (1, ('shewn', 'that')), (1, ('shall', 'seem')), (1, ('separation', 'we')), (1, ('separate', 'and')), (1, ('selfevident', 'that')), (1, ('seem', 'most')), (1, ('securitysuch', 'has')), (1, ('secure', 'these')), (1, ('same', 'object')), (1, ('safety', 'and')), (1, ('rights', 'that')), (1, ('rights', 'governments')), (1, ('right', 'themselves')), (1, ('right', 'of')), (1, ('right', 'it')), (1, ('respect', 'to')), (1, ('requires', 'that')), (1, ('repeated', 'injuries')), (1, ('reduce', 'them')), (1, ('pursuit', 'of')), (1, ('pursuing', 'invariably')), (1, ('prudence', 'indeed')), (1, ('provide', 'new')), (1, ('prove', 'this')), (1, ('principles', 'and')), (1, ('present', 'king')), (1, ('powers', 'of')), (1, ('powers', 'in')), (1, ('powers', 'from')), (1, ('people', 'to')), (1, ('patient', 'sufferance')), (1, ('over', 'these')), (1, ('organizing', 'its')), (1, ('or', 'to')), (1, ('opinions', 'of')), (1, ('on', 'such')), (1, ('off', 'such')), (1, ('of', 'repeated')), (1, ('of', 'natures')), (1, ('of', 'nature')), (1, ('of', 'mankind')), (1, ('of', 'happinessthat')), (1, ('of', 'great')), (1, ('of', 'an')), (1, ('of', 'abuses')), (1, ('object', 'the')), (1, ('object', 'evinces')), (1, ('now', 'the')), (1, ('not', 'be')), (1, ('new', 'guards')), (1, ('new', 'government')), (1, ('necessity', 'which')), (1, ('natures', 'god')), (1, ('nature', 'and')), (1, ('most', 'likely')), (1, ('more', 'disposed')), (1, ('men', 'deriving')), (1, ('men', 'are')), (1, ('mankind', 'requires')), (1, ('mankind', 'are')), (1, ('long', 'train')), (1, ('long', 'established')), (1, ('likely', 'to')), (1, ('light', 'and')), (1, ('life', 'liberty')), (1, ('liberty', 'and')), (1, ('let', 'facts')), (1, ('laying', 'its')), (1, ('laws', 'of')), (1, ('king', 'of')), (1, ('just', 'powers')), (1, ('its', 'powers')), (1, ('its', 'foundation')), (1, ('it', 'and')), (1, ('is', 'the')), (1, ('is', 'now')), (1, ('is', 'a')), (1, ('invariably', 'the')), (1, ('instituted', 'among')), (1, ('institute', 'new')), (1, ('injuries', 'and')), (1, ('indeed', 'will')), (1, ('in', 'such')), (1, ('in', 'direct')), (1, ('impel', 'them')), (1, ('hold', 'these')), (1, ('having', 'in')), (1, ('have', 'connected')), (1, ('hath', 'shewn')), (1, ('has', 'been')), (1, ('happinessthat', 'to')), (1, ('happiness', 'prudence')), (1, ('guards', 'for')), (1, ('great', 'britain')), (1, ('governments', 'long')), (1, ('governments', 'are')), (1, ('government', 'the')), (1, ('government', 'laying')), (1, ('government', 'becomes')), (1, ('government', 'and')), (1, ('governed', 'that')), (1, ('god', 'entitle')), (1, ('future', 'securitysuch')), (1, ('from', 'the')), (1, ('foundation', 'on')), (1, ('forms', 'to')), (1, ('former', 'systems')), (1, ('form', 'of')), (1, ('form', 'as')), (1, ('for', 'their')), (1, ('for', 'light')), (1, ('facts', 'be')), (1, ('experience', 'hath')), (1, ('evinces', 'a')), (1, ('evils', 'are')), (1, ('establishment', 'of')), (1, ('established', 'should')), (1, ('equal', 'that')), (1, ('equal', 'station')), (1, ('entitle', 'them')), (1, ('ends', 'it')), (1, ('endowed', 'by')), (1, ('effect', 'their')), (1, ('earth', 'the')), (1, ('duty', 'to')), (1, ('disposed', 'to')), (1, ('direct', 'object')), (1, ('dictate', 'that')), (1, ('destructive', 'of')), (1, ('despotism', 'it')), (1, ('design', 'to')), (1, ('deriving', 'their')), (1, ('declare', 'the')), (1, ('decent', 'respect')), (1, ('creator', 'with')), (1, ('created', 'equal')), (1, ('constrains', 'them')), (1, ('consent', 'of')), (1, ('connected', 'them')), (1, ('colonies', 'and')), (1, ('changed', 'for')), (1, ('certain', 'unalienable')), (1, ('causes', 'which')), (1, ('causes', 'and')), (1, ('candid', 'world')), (1, ('by', 'their')), (1, ('by', 'abolishing')), (1, ('but', 'when')), (1, ('britain', 'is')), (1, ('been', 'the')), (1, ('becomes', 'destructive')), (1, ('be', 'submitted')), (1, ('be', 'selfevident')), (1, ('be', 'changed')), (1, ('bands', 'which')), (1, ('assume', 'among')), (1, ('as', 'to')), (1, ('are', 'sufferable')), (1, ('are', 'more')), (1, ('are', 'life')), (1, ('are', 'instituted')), (1, ('are', 'endowed')), (1, ('are', 'created')), (1, ('are', 'accustomed')), (1, ('any', 'form')), (1, ('another', 'and')), (1, ('and', 'transient')), (1, ('and', 'the')), (1, ('and', 'such')), (1, ('and', 'organizing')), (1, ('and', 'of')), (1, ('and', 'happiness')), (1, ('and', 'equal')), (1, ('and', 'accordingly')), (1, ('an', 'absolute')), (1, ('among', 'these')), (1, ('among', 'the')), (1, ('among', 'men')), (1, ('alter', 'their')), (1, ('alter', 'or')), (1, ('all', 'men')), (1, ('all', 'having')), (1, ('all', 'experience')), (1, ('accustomed', 'but')), (1, ('accordingly', 'all')), (1, ('abuses', 'and')), (1, ('absolute', 'tyranny')), (1, ('absolute', 'despotism')), (1, ('abolishing', 'the')), (1, ('abolish', 'it')), (1, ('a', 'long')), (1, ('a', 'history')), (1, ('a', 'design')), (1, ('a', 'decent')), (1, ('a', 'candid'))]\n"
     ]
    }
   ],
   "source": [
    "# (3) same as 2, but instead of single words, count the number of occurances of **word pairs** i.e.\n",
    "# ('bands','which'),('which','have'),...\n",
    "\n",
    "import re\n",
    "# First, we replace the punctuations marks and lower()\n",
    "Text = re.sub('[-.;,\\']', '',Text).lower()\n",
    "Text_list = Text.split() # making each word into list\n",
    "\n",
    "d = {} # one thing I love about dictionaries is tuples can be keys. \n",
    "\n",
    "for i in zip(Text_list[:-1], Text_list[1:]):\n",
    "    d[i] = d.get(i, 0) + 1\n",
    "\n",
    "sortable_list = []\n",
    "for key, value in d.items():\n",
    "    sortable_list.append((value,key));\n",
    "sortable_list.sort(reverse = True)\n",
    "\n",
    "print sortable_list"
   ]
  },
  {
   "cell_type": "markdown",
   "metadata": {},
   "source": [
    "(4) For the list `l =  [ 6, -5, 3, -2, 0, 8, -9, -7 ]`, return the numbers which are greater than the average (of these numbers)"
   ]
  },
  {
   "cell_type": "code",
   "execution_count": 22,
   "metadata": {
    "collapsed": false
   },
   "outputs": [
    {
     "name": "stdout",
     "output_type": "stream",
     "text": [
      "[6, 3, 0, 8] -0.75\n"
     ]
    }
   ],
   "source": [
    "l =  [ 6, -5, 3, -2, 0, 8, -9, -7 ]\n",
    "\n",
    "import numpy as np\n",
    "average = sum(l)/float(len(l));\n",
    "num_above_average = [x for x in l if x > average]\n",
    "print num_above_average, average"
   ]
  },
  {
   "cell_type": "markdown",
   "metadata": {},
   "source": [
    "(5) for the tuples (2, 5, 3, 7, 10, 20, 54, 89) and (15, 16, 3, 37, 54, 21, 20, 5) return a sorted tuple that contains\n",
    "only the elements common to both the tuples (use sets)"
   ]
  },
  {
   "cell_type": "code",
   "execution_count": 23,
   "metadata": {
    "collapsed": false
   },
   "outputs": [
    {
     "name": "stdout",
     "output_type": "stream",
     "text": [
      "(3, 20, 5, 54)\n"
     ]
    }
   ],
   "source": [
    "s1 = set((2, 5, 3, 7, 10, 20, 54, 89));\n",
    "s2 = set((15, 16, 3, 37, 54, 21, 20, 5));\n",
    "\n",
    "common_elements = tuple(set.intersection(s1, s2))\n",
    "print common_elements"
   ]
  },
  {
   "cell_type": "markdown",
   "metadata": {},
   "source": [
    "(6) calculate the average word length for the text\n",
    "\n",
    "> TEXT =\n",
    "> On a dark desert highway, cool wind in my hair\n",
    "> Warm smell of colitas, rising up through the air\n",
    "> Up ahead in the distance, I saw a shimmering light\n",
    "> My head grew heavy and my sight grew dim\n",
    "> I had to stop for the night\n",
    "> There she stood in the doorway;\n",
    "> I heard the mission bell\n",
    "> And I was thinking to myself,\n",
    "> \"This could be Heaven or this could be Hell\"\n",
    "> Then she lit up a candle and she showed me the way\n",
    "> \n",
    "\n",
    "Average word length is the sum of all the lengths of the word tokens in the text, divided by the number of word tokens\n"
   ]
  },
  {
   "cell_type": "markdown",
   "metadata": {},
   "source": [
    "(7) Using the same text as in the last one, remove all punctuation and output the words in sorted alphabetical order. Save this output as a CSV file with each word separated from the other by the delimiter(comma)."
   ]
  },
  {
   "cell_type": "markdown",
   "metadata": {},
   "source": [
    "(8) Read the text from the above separated csv file and return a dictionary of (letter:count) pair\n",
    "that counts the number of times each letter appears in that line."
   ]
  },
  {
   "cell_type": "code",
   "execution_count": null,
   "metadata": {
    "collapsed": false
   },
   "outputs": [],
   "source": [
    "#(9) Take as an input an array of integers, and return true if the array contains a 5 immediately after another 5 \n",
    "#somewhere.\n",
    "A=[1,5,1,6,5,3,5,2]\n",
    "B=[1,2,3,4,5,5,6,7,8,9]"
   ]
  },
  {
   "cell_type": "markdown",
   "metadata": {},
   "source": [
    "(10) Write  a program that takes in a positive number (in some variable, say `i`) and computes the sum of all the number\n",
    "between 0 and that number (inclusive). \n",
    "\n",
    "* Do it using a for loop\n",
    "* Do it in one line using the function `sum` and list comprehension."
   ]
  },
  {
   "cell_type": "code",
   "execution_count": null,
   "metadata": {
    "collapsed": false
   },
   "outputs": [],
   "source": [
    "#(11) for the text in file BrownNews.txt (~/DSE200/data/NLTK/BrownNews.txt), \n",
    "#find the distribution of the second letter in each word. "
   ]
  },
  {
   "cell_type": "markdown",
   "metadata": {},
   "source": [
    "(12) write a program to find solutions of the 8 queen problem.\n",
    ">The eight queens problem is the problem of placing eight queens on an 8×8 chessboard such that none of them attack one >another (no two are in the same row, column, or diagonal). Below is one of the arrangements of an 8 queen solution"
   ]
  },
  {
   "cell_type": "markdown",
   "metadata": {},
   "source": [
    "<img src=\"8queen.jpg\">"
   ]
  },
  {
   "cell_type": "markdown",
   "metadata": {},
   "source": [
    "(13) Write a program to make a list of all prime numbers less than 3000. A prime number can only be divided evenly by 1 and itself."
   ]
  },
  {
   "cell_type": "markdown",
   "metadata": {},
   "source": [
    "(14) Solve the above problem using Set instead of List "
   ]
  }
 ],
 "metadata": {
  "kernelspec": {
   "display_name": "Python 2",
   "language": "python",
   "name": "python2"
  },
  "language_info": {
   "codemirror_mode": {
    "name": "ipython",
    "version": 2
   },
   "file_extension": ".py",
   "mimetype": "text/x-python",
   "name": "python",
   "nbconvert_exporter": "python",
   "pygments_lexer": "ipython2",
   "version": "2.7.11"
  }
 },
 "nbformat": 4,
 "nbformat_minor": 0
}
